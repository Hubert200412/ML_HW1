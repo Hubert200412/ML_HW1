{
 "cells": [
  {
   "cell_type": "code",
   "execution_count": 1,
   "id": "9a3b475e",
   "metadata": {},
   "outputs": [
    {
     "name": "stdout",
     "output_type": "stream",
     "text": [
      "   mean radius  mean texture  mean perimeter  mean area  mean smoothness  \\\n",
      "0        17.99         10.38           122.8     1001.0          0.11840   \n",
      "1        20.57         17.77           132.9     1326.0          0.08474   \n",
      "\n",
      "   mean compactness  mean concavity  mean concave points  mean symmetry  \\\n",
      "0           0.27760          0.3001              0.14710         0.2419   \n",
      "1           0.07864          0.0869              0.07017         0.1812   \n",
      "\n",
      "   mean fractal dimension  ...  worst texture  worst perimeter  worst area  \\\n",
      "0                 0.07871  ...          17.33            184.6      2019.0   \n",
      "1                 0.05667  ...          23.41            158.8      1956.0   \n",
      "\n",
      "   worst smoothness  worst compactness  worst concavity  worst concave points  \\\n",
      "0            0.1622             0.6656           0.7119                0.2654   \n",
      "1            0.1238             0.1866           0.2416                0.1860   \n",
      "\n",
      "   worst symmetry  worst fractal dimension  target  \n",
      "0          0.4601                  0.11890       0  \n",
      "1          0.2750                  0.08902       0  \n",
      "\n",
      "[2 rows x 31 columns]\n",
      "Shape of Sklearn Breast Cancer Data: (569, 31)\n"
     ]
    }
   ],
   "source": [
    "import numpy as np\n",
    "import pandas as pd\n",
    "import matplotlib.pyplot as plt\n",
    "from sklearn.model_selection import train_test_split\n",
    "from sklearn.datasets import load_breast_cancer\n",
    "\n",
    "# Load the diabetes dataset\n",
    "data = load_breast_cancer()\n",
    "\n",
    "# Convert the dataset to a DataFrame\n",
    "data_df = pd.DataFrame(data=data.data,\n",
    "                           columns=data.feature_names)\n",
    "\n",
    "# Add target variable to the DataFrame\n",
    "data_df['target'] = data.target\n",
    "\n",
    "print(data_df.head(2))\n",
    "\n",
    "# Print the shape of the feature matrix and target vector\n",
    "print(\"Shape of Sklearn Breast Cancer Data:\", data_df.shape)"
   ]
  },
  {
   "cell_type": "code",
   "execution_count": 2,
   "id": "97461f83",
   "metadata": {},
   "outputs": [
    {
     "name": "stdout",
     "output_type": "stream",
     "text": [
      "Missing values in all columns:\n",
      " 0\n"
     ]
    }
   ],
   "source": [
    "#总体缺失值检查\n",
    "print(\"Missing values in all columns:\\n\", data_df.isnull().sum().sum())"
   ]
  },
  {
   "cell_type": "code",
   "execution_count": 3,
   "id": "4247b54f",
   "metadata": {},
   "outputs": [
    {
     "name": "stdout",
     "output_type": "stream",
     "text": [
      "First two rows after scaling:\n",
      "    mean radius  mean texture  mean perimeter  mean area  mean smoothness  \\\n",
      "0     1.097064     -2.073335        1.269934   0.984375         1.568466   \n",
      "1     1.829821     -0.353632        1.685955   1.908708        -0.826962   \n",
      "\n",
      "   mean compactness  mean concavity  mean concave points  mean symmetry  \\\n",
      "0          3.283515        2.652874             2.532475       2.217515   \n",
      "1         -0.487072       -0.023846             0.548144       0.001392   \n",
      "\n",
      "   mean fractal dimension  ...  worst texture  worst perimeter  worst area  \\\n",
      "0                2.255747  ...      -1.359293         2.303601    2.001237   \n",
      "1               -0.868652  ...      -0.369203         1.535126    1.890489   \n",
      "\n",
      "   worst smoothness  worst compactness  worst concavity  worst concave points  \\\n",
      "0          1.307686           2.616665         2.109526              2.296076   \n",
      "1         -0.375612          -0.430444        -0.146749              1.087084   \n",
      "\n",
      "   worst symmetry  worst fractal dimension  target  \n",
      "0        2.750622                 1.937015       0  \n",
      "1       -0.243890                 0.281190       0  \n",
      "\n",
      "[2 rows x 31 columns]\n"
     ]
    }
   ],
   "source": [
    "#数值特征缩放\n",
    "from sklearn.preprocessing import StandardScaler\n",
    "scaler = StandardScaler()\n",
    "data_df[data.feature_names] = scaler.fit_transform(data_df[data.feature_names])\n",
    "print(\"First two rows after scaling:\\n\", data_df.head(2))"
   ]
  },
  {
   "cell_type": "code",
   "execution_count": 4,
   "id": "9d5354ce",
   "metadata": {},
   "outputs": [
    {
     "name": "stdout",
     "output_type": "stream",
     "text": [
      "Selected features: Index(['mean radius', 'mean perimeter', 'mean area', 'mean concavity',\n",
      "       'mean concave points', 'worst radius', 'worst perimeter', 'worst area',\n",
      "       'worst concavity', 'worst concave points'],\n",
      "      dtype='object')\n",
      "Shape after feature selection: (569, 11)\n"
     ]
    }
   ],
   "source": [
    "# 特征选择\n",
    "from sklearn.ensemble import RandomForestClassifier\n",
    "from sklearn.feature_selection import SelectFromModel\n",
    "rf = RandomForestClassifier(random_state=42)\n",
    "rf.fit(data_df.drop(columns=['target']), data_df['target'])\n",
    "selector = SelectFromModel(rf, prefit=True)\n",
    "selected_features = data_df.drop(columns=['target']).columns[selector.get_support()]\n",
    "print('Selected features:', selected_features)\n",
    "data_df = data_df[selected_features.tolist() + ['target']]\n",
    "print(\"Shape after feature selection:\", data_df.shape)"
   ]
  },
  {
   "cell_type": "code",
   "execution_count": 5,
   "id": "5ff170c4",
   "metadata": {},
   "outputs": [
    {
     "name": "stdout",
     "output_type": "stream",
     "text": [
      "X_train shape: (455, 10)\n",
      "X_test shape: (114, 10)\n",
      "y_train shape: (455,)\n",
      "y_test shape: (114,)\n"
     ]
    }
   ],
   "source": [
    "train_test_split_ratio = 0.2\n",
    "X_train, X_test, y_train, y_test = train_test_split(data_df.drop(columns=['target']),\n",
    "                                                    data_df['target'],\n",
    "                                                    test_size=train_test_split_ratio,\n",
    "                                                    random_state=42)\n",
    "print(\"X_train shape:\", X_train.shape)\n",
    "print(\"X_test shape:\", X_test.shape)\n",
    "print(\"y_train shape:\", y_train.shape)\n",
    "print(\"y_test shape:\", y_test.shape)"
   ]
  },
  {
   "cell_type": "markdown",
   "id": "a9e5f8a9",
   "metadata": {},
   "source": [
    "## 算法一：支持向量机（软间隔最大化）"
   ]
  },
  {
   "cell_type": "code",
   "execution_count": 6,
   "id": "879f2291",
   "metadata": {},
   "outputs": [
    {
     "name": "stdout",
     "output_type": "stream",
     "text": [
      "SVM Accuracy: 0.9825\n"
     ]
    }
   ],
   "source": [
    "from sklearn.svm import SVC\n",
    "from sklearn.metrics import accuracy_score\n",
    "\n",
    "# 创建支持向量机模型（软间隔最大化，默认C=1.0）\n",
    "svm_model = SVC(kernel='linear', C=1.0, random_state=42)\n",
    "\n",
    "# 训练模型\n",
    "svm_model.fit(X_train, y_train)\n",
    "\n",
    "# 在测试集上进行预测\n",
    "y_pred = svm_model.predict(X_test)\n",
    "\n",
    "# 计算准确率\n",
    "accuracy = accuracy_score(y_test, y_pred)\n",
    "print(f\"SVM Accuracy: {accuracy:.4f}\")"
   ]
  },
  {
   "cell_type": "code",
   "execution_count": 7,
   "id": "1bb8a6e6",
   "metadata": {},
   "outputs": [
    {
     "name": "stdout",
     "output_type": "stream",
     "text": [
      "训练样本中具有非零松弛变量的数量: 65\n",
      "总松弛变量和: 55.7334\n"
     ]
    }
   ],
   "source": [
    "import numpy as np\n",
    "\n",
    "# 将标签转换为-1和1（SVM标准）\n",
    "y_train_svm = np.where(y_train == 0, -1, 1)\n",
    "\n",
    "# 计算决策函数值\n",
    "decision_values = svm_model.decision_function(X_train)\n",
    "\n",
    "# 计算松弛变量 ξ_i = max(0, 1 - y_i * f(x_i))\n",
    "slack_variables = np.maximum(0, 1 - y_train_svm * decision_values)\n",
    "\n",
    "# 检查松弛变量\n",
    "non_zero_slacks = np.sum(slack_variables > 0)\n",
    "total_slack = np.sum(slack_variables)\n",
    "\n",
    "print(f\"训练样本中具有非零松弛变量的数量: {non_zero_slacks}\")\n",
    "print(f\"总松弛变量和: {total_slack:.4f}\")"
   ]
  },
  {
   "cell_type": "markdown",
   "id": "67ac6e39",
   "metadata": {},
   "source": [
    "### 接下来对C进行超参优化\n",
    "### 优化结果表明C=1时已达最优"
   ]
  },
  {
   "cell_type": "code",
   "execution_count": 8,
   "id": "b461964d",
   "metadata": {},
   "outputs": [
    {
     "name": "stdout",
     "output_type": "stream",
     "text": [
      "最佳参数: {'C': 1}\n",
      "最佳交叉验证分数: 0.9494505494505494\n",
      "\n",
      "所有网格搜索结果:\n",
      "   param_C  mean_test_score  std_test_score  rank_test_score\n",
      "0      0.1         0.942857        0.014579                5\n",
      "1      1.0         0.949451        0.013187                1\n",
      "2     10.0         0.949451        0.028317                1\n",
      "3    100.0         0.949451        0.039069                1\n",
      "4   1000.0         0.947253        0.032151                4\n",
      "\n",
      "最佳SVM在测试集上的准确率: 0.9825\n"
     ]
    }
   ],
   "source": [
    "from sklearn.model_selection import GridSearchCV\n",
    "\n",
    "# 定义参数网格\n",
    "param_grid = {'C': [0.1, 1, 10, 100, 1000]}\n",
    "\n",
    "# 创建GridSearchCV对象\n",
    "grid_search = GridSearchCV(SVC(kernel='linear', random_state=42), param_grid, cv=5, scoring='accuracy')\n",
    "\n",
    "# 拟合网格搜索\n",
    "grid_search.fit(X_train, y_train)\n",
    "\n",
    "# 输出最佳参数和最佳交叉验证分数\n",
    "print(\"最佳参数:\", grid_search.best_params_)\n",
    "print(\"最佳交叉验证分数:\", grid_search.best_score_)\n",
    "\n",
    "# 输出全部结果\n",
    "import pandas as pd\n",
    "results = pd.DataFrame(grid_search.cv_results_)\n",
    "print(\"\\n所有网格搜索结果:\")\n",
    "print(results[['param_C', 'mean_test_score', 'std_test_score', 'rank_test_score']])\n",
    "\n",
    "# 使用最佳模型进行预测\n",
    "best_model = grid_search.best_estimator_\n",
    "y_pred_best = best_model.predict(X_test)\n",
    "accuracy_best = accuracy_score(y_test, y_pred_best)\n",
    "print(f\"\\n最佳SVM在测试集上的准确率: {accuracy_best:.4f}\")"
   ]
  },
  {
   "cell_type": "markdown",
   "id": "530550f8",
   "metadata": {},
   "source": [
    "## 算法二：KNN"
   ]
  },
  {
   "cell_type": "code",
   "execution_count": 9,
   "id": "10f3be1b",
   "metadata": {},
   "outputs": [
    {
     "name": "stdout",
     "output_type": "stream",
     "text": [
      "KNN准确率 (k=5): 0.9737\n",
      "最佳参数: {'n_neighbors': 4}\n",
      "最佳交叉验证分数: 0.945054945054945\n",
      "\n",
      "所有KNN网格搜索结果:\n",
      "   param_n_neighbors  mean_test_score  std_test_score  rank_test_score\n",
      "0                  1         0.931868        0.010767                3\n",
      "1                  2         0.918681        0.011207               18\n",
      "2                  3         0.938462        0.019160                2\n",
      "3                  4         0.945055        0.012038                1\n",
      "4                  5         0.931868        0.018906                3\n",
      "\n",
      "最佳KNN在测试集上的准确率: 0.9737\n",
      "- 在本实验中，最佳k值为 4 ，测试准确率为 0.9737 。\n",
      "最佳参数: {'n_neighbors': 4}\n",
      "最佳交叉验证分数: 0.945054945054945\n",
      "\n",
      "所有KNN网格搜索结果:\n",
      "   param_n_neighbors  mean_test_score  std_test_score  rank_test_score\n",
      "0                  1         0.931868        0.010767                3\n",
      "1                  2         0.918681        0.011207               18\n",
      "2                  3         0.938462        0.019160                2\n",
      "3                  4         0.945055        0.012038                1\n",
      "4                  5         0.931868        0.018906                3\n",
      "\n",
      "最佳KNN在测试集上的准确率: 0.9737\n",
      "- 在本实验中，最佳k值为 4 ，测试准确率为 0.9737 。\n"
     ]
    }
   ],
   "source": [
    "from sklearn.neighbors import KNeighborsClassifier\n",
    "from sklearn.model_selection import GridSearchCV\n",
    "\n",
    "# 创建KNN模型（默认k=5）\n",
    "knn_model = KNeighborsClassifier(n_neighbors=5)\n",
    "\n",
    "# 训练模型\n",
    "knn_model.fit(X_train, y_train)\n",
    "\n",
    "# 在测试集上进行预测\n",
    "y_pred_knn = knn_model.predict(X_test)\n",
    "\n",
    "# 计算准确率\n",
    "accuracy_knn = accuracy_score(y_test, y_pred_knn)\n",
    "print(f\"KNN准确率 (k=5): {accuracy_knn:.4f}\")\n",
    "\n",
    "# KNN超参优化：选择最佳k值\n",
    "param_grid_knn = {'n_neighbors': list(range(1, 21))}  # k从1到20\n",
    "\n",
    "grid_search_knn = GridSearchCV(KNeighborsClassifier(), param_grid_knn, cv=5, scoring='accuracy')\n",
    "\n",
    "grid_search_knn.fit(X_train, y_train)\n",
    "\n",
    "print(\"最佳参数:\", grid_search_knn.best_params_)\n",
    "print(\"最佳交叉验证分数:\", grid_search_knn.best_score_)\n",
    "\n",
    "# 输出全部结果\n",
    "results_knn = pd.DataFrame(grid_search_knn.cv_results_)\n",
    "print(\"\\n所有KNN网格搜索结果:\")\n",
    "print(results_knn[['param_n_neighbors', 'mean_test_score', 'std_test_score', 'rank_test_score']].head(5))  # 显示前5个\n",
    "\n",
    "# 使用最佳模型进行预测\n",
    "best_knn = grid_search_knn.best_estimator_\n",
    "y_pred_best_knn = best_knn.predict(X_test)\n",
    "accuracy_best_knn = accuracy_score(y_test, y_pred_best_knn)\n",
    "print(f\"\\n最佳KNN在测试集上的准确率: {accuracy_best_knn:.4f}\")\n",
    "print(\"- 在本实验中，最佳k值为\", grid_search_knn.best_params_['n_neighbors'], \"，测试准确率为\", f\"{accuracy_best_knn:.4f}\", \"。\")"
   ]
  },
  {
   "cell_type": "markdown",
   "id": "9cef3aca",
   "metadata": {},
   "source": [
    "### 测试不同的KNN距离度量"
   ]
  },
  {
   "cell_type": "code",
   "execution_count": 10,
   "id": "3f609394",
   "metadata": {},
   "outputs": [
    {
     "name": "stdout",
     "output_type": "stream",
     "text": [
      "最佳k值: 4\n",
      "euclidean 距离的准确率: 0.9737\n",
      "manhattan 距离的准确率: 0.9737\n",
      "cosine 距离的准确率: 0.9825\n",
      "\n",
      "距离度量比较:\n",
      "euclidean: 0.9737\n",
      "manhattan: 0.9737\n",
      "cosine: 0.9825\n"
     ]
    }
   ],
   "source": [
    "from sklearn.neighbors import KNeighborsClassifier\n",
    "from sklearn.model_selection import GridSearchCV\n",
    "from sklearn.metrics import accuracy_score\n",
    "\n",
    "# 重新运行网格搜索以获取最佳k值（确保一致性）\n",
    "param_grid_knn = {'n_neighbors': list(range(1, 21))}\n",
    "grid_search_knn_temp = GridSearchCV(KNeighborsClassifier(), param_grid_knn, cv=5, scoring='accuracy')\n",
    "grid_search_knn_temp.fit(X_train, y_train)\n",
    "best_k = grid_search_knn_temp.best_params_['n_neighbors']\n",
    "print(f\"最佳k值: {best_k}\")\n",
    "\n",
    "# 定义不同的距离度量\n",
    "metrics = ['euclidean', 'manhattan', 'cosine']\n",
    "\n",
    "# 存储结果\n",
    "results = {}\n",
    "\n",
    "for metric in metrics:\n",
    "    knn = KNeighborsClassifier(n_neighbors=best_k, metric=metric)\n",
    "    knn.fit(X_train, y_train)\n",
    "    y_pred = knn.predict(X_test)\n",
    "    acc = accuracy_score(y_test, y_pred)\n",
    "    results[metric] = acc\n",
    "    print(f\"{metric} 距离的准确率: {acc:.4f}\")\n",
    "\n",
    "print(\"\\n距离度量比较:\")\n",
    "for metric, acc in results.items():\n",
    "    print(f\"{metric}: {acc:.4f}\")"
   ]
  },
  {
   "cell_type": "markdown",
   "id": "ef75043f",
   "metadata": {},
   "source": [
    "### 基线算法比较"
   ]
  },
  {
   "cell_type": "code",
   "execution_count": 11,
   "id": "cfbb4990",
   "metadata": {},
   "outputs": [
    {
     "name": "stdout",
     "output_type": "stream",
     "text": [
      "基线算法（Dummy Classifier）准确率: 0.6228\n",
      "KNN准确率: 0.9825\n",
      "SVM准确率: 0.9825\n",
      "\n",
      "算法比较:\n",
      "Dummy: 0.6228\n",
      "KNN: 0.9825\n",
      "SVM: 0.9825\n"
     ]
    }
   ],
   "source": [
    "from sklearn.dummy import DummyClassifier\n",
    "from sklearn.neighbors import KNeighborsClassifier\n",
    "\n",
    "# 基线算法：Dummy Classifier（多数类分类器）\n",
    "dummy = DummyClassifier(strategy='most_frequent', random_state=42)\n",
    "dummy.fit(X_train, y_train)\n",
    "y_pred_dummy = dummy.predict(X_test)\n",
    "accuracy_dummy = accuracy_score(y_test, y_pred_dummy)\n",
    "print(f\"基线算法（Dummy Classifier）准确率: {accuracy_dummy:.4f}\")\n",
    "\n",
    "# KNN算法作为对比\n",
    "knn = KNeighborsClassifier(n_neighbors=4, metric='cosine')\n",
    "knn.fit(X_train, y_train)\n",
    "y_pred_knn = knn.predict(X_test)\n",
    "accuracy_knn = accuracy_score(y_test, y_pred_knn)\n",
    "print(f\"KNN准确率: {accuracy_knn:.4f}\")\n",
    "\n",
    "# SVM准确率（从之前的结果）\n",
    "print(f\"SVM准确率: {accuracy_best:.4f}\")\n",
    "\n",
    "# 比较\n",
    "print(\"\\n算法比较:\")\n",
    "print(f\"Dummy: {accuracy_dummy:.4f}\")\n",
    "print(f\"KNN: {accuracy_knn:.4f}\")\n",
    "print(f\"SVM: {accuracy_best:.4f}\")"
   ]
  },
  {
   "cell_type": "markdown",
   "id": "83ae16a8",
   "metadata": {},
   "source": [
    "## 深化评价指标\n",
    "#### (更详细地评估SVM与KNN在数据集上的效果表现)"
   ]
  },
  {
   "cell_type": "code",
   "execution_count": 12,
   "id": "c6cbd22d",
   "metadata": {},
   "outputs": [
    {
     "name": "stdout",
     "output_type": "stream",
     "text": [
      "深化评价指标（使用最佳模型）:\n",
      "\n",
      "SVM分类报告:\n",
      "              precision    recall  f1-score   support\n",
      "\n",
      "      Benign       0.98      0.98      0.98        43\n",
      "   Malignant       0.99      0.99      0.99        71\n",
      "\n",
      "    accuracy                           0.98       114\n",
      "   macro avg       0.98      0.98      0.98       114\n",
      "weighted avg       0.98      0.98      0.98       114\n",
      "\n",
      "SVM F1-score: 0.9825, Precision: 0.9825, Recall: 0.9825\n",
      "\n",
      "KNN分类报告:\n",
      "              precision    recall  f1-score   support\n",
      "\n",
      "      Benign       0.96      1.00      0.98        43\n",
      "   Malignant       1.00      0.97      0.99        71\n",
      "\n",
      "    accuracy                           0.98       114\n",
      "   macro avg       0.98      0.99      0.98       114\n",
      "weighted avg       0.98      0.98      0.98       114\n",
      "\n",
      "KNN F1-score: 0.9825, Precision: 0.9832, Recall: 0.9825\n",
      "\n",
      "Dummy F1-score: 0.4780\n",
      "\n",
      "算法比较 (F1-score):\n",
      "Dummy: 0.4780\n",
      "KNN: 0.9825\n",
      "SVM: 0.9825\n"
     ]
    }
   ],
   "source": [
    "from sklearn.metrics import classification_report, f1_score, precision_score, recall_score\n",
    "\n",
    "# 深化评价指标：计算F1-score等\n",
    "print(\"深化评价指标（使用最佳模型）:\")\n",
    "\n",
    "# SVM\n",
    "y_pred_svm = best_model.predict(X_test)\n",
    "print(\"\\nSVM分类报告:\")\n",
    "print(classification_report(y_test, y_pred_svm, target_names=['Benign', 'Malignant']))\n",
    "f1_svm = f1_score(y_test, y_pred_svm, average='weighted')\n",
    "precision_svm = precision_score(y_test, y_pred_svm, average='weighted')\n",
    "recall_svm = recall_score(y_test, y_pred_svm, average='weighted')\n",
    "print(f\"SVM F1-score: {f1_svm:.4f}, Precision: {precision_svm:.4f}, Recall: {recall_svm:.4f}\")\n",
    "\n",
    "# KNN\n",
    "knn_cosine = KNeighborsClassifier(n_neighbors=4, metric='cosine')  # 使用最佳k=4和余弦距离\n",
    "knn_cosine.fit(X_train, y_train)\n",
    "y_pred_knn_best = knn_cosine.predict(X_test)\n",
    "print(\"\\nKNN分类报告:\")\n",
    "print(classification_report(y_test, y_pred_knn_best, target_names=['Benign', 'Malignant']))\n",
    "f1_knn = f1_score(y_test, y_pred_knn_best, average='weighted')\n",
    "precision_knn = precision_score(y_test, y_pred_knn_best, average='weighted')\n",
    "recall_knn = recall_score(y_test, y_pred_knn_best, average='weighted')\n",
    "print(f\"KNN F1-score: {f1_knn:.4f}, Precision: {precision_knn:.4f}, Recall: {recall_knn:.4f}\")\n",
    "\n",
    "# Dummy\n",
    "y_pred_dummy = dummy.predict(X_test)\n",
    "f1_dummy = f1_score(y_test, y_pred_dummy, average='weighted')\n",
    "print(f\"\\nDummy F1-score: {f1_dummy:.4f}\")\n",
    "\n",
    "print(\"\\n算法比较 (F1-score):\")\n",
    "print(f\"Dummy: {f1_dummy:.4f}\")\n",
    "print(f\"KNN: {f1_knn:.4f}\")\n",
    "print(f\"SVM: {f1_svm:.4f}\")"
   ]
  },
  {
   "cell_type": "code",
   "execution_count": null,
   "id": "a3421d55",
   "metadata": {},
   "outputs": [],
   "source": []
  },
  {
   "cell_type": "markdown",
   "id": "3f8182f0",
   "metadata": {},
   "source": [
    "## 算法性能对比：ROC 和 PR 曲线"
   ]
  },
  {
   "cell_type": "code",
   "execution_count": 13,
   "id": "f4ef910d",
   "metadata": {},
   "outputs": [
    {
     "data": {
      "image/png": "[encoded data removed]",
      "text/plain": [
       "<Figure size 1200x500 with 2 Axes>"
      ]
     },
     "metadata": {},
     "output_type": "display_data"
    }
   ],
   "source": [
    "import matplotlib.pyplot as plt\n",
    "from sklearn.metrics import roc_curve, auc, precision_recall_curve\n",
    "\n",
    "# 获取预测概率\n",
    "y_prob_svm = best_model.decision_function(X_test)  # SVM决策函数\n",
    "y_prob_knn = knn_cosine.predict_proba(X_test)[:, 1]  # KNN概率\n",
    "y_prob_dummy = dummy.predict_proba(X_test)[:, 1]  # Dummy概率\n",
    "\n",
    "# ROC 曲线\n",
    "fpr_svm, tpr_svm, _ = roc_curve(y_test, y_prob_svm)\n",
    "roc_auc_svm = auc(fpr_svm, tpr_svm)\n",
    "\n",
    "fpr_knn, tpr_knn, _ = roc_curve(y_test, y_prob_knn)\n",
    "roc_auc_knn = auc(fpr_knn, tpr_knn)\n",
    "\n",
    "fpr_dummy, tpr_dummy, _ = roc_curve(y_test, y_prob_dummy)\n",
    "roc_auc_dummy = auc(fpr_dummy, tpr_dummy)\n",
    "\n",
    "# PR 曲线\n",
    "precision_svm, recall_svm, _ = precision_recall_curve(y_test, y_prob_svm)\n",
    "pr_auc_svm = auc(recall_svm, precision_svm)\n",
    "\n",
    "precision_knn, recall_knn, _ = precision_recall_curve(y_test, y_prob_knn)\n",
    "pr_auc_knn = auc(recall_knn, precision_knn)\n",
    "\n",
    "precision_dummy, recall_dummy, _ = precision_recall_curve(y_test, y_prob_dummy)\n",
    "pr_auc_dummy = auc(recall_dummy, precision_dummy)\n",
    "\n",
    "# 绘制 ROC 曲线\n",
    "plt.figure(figsize=(12, 5))\n",
    "\n",
    "plt.subplot(1, 2, 1)\n",
    "plt.plot(fpr_svm, tpr_svm, label=f'SVM (AUC = {roc_auc_svm:.2f})')\n",
    "plt.plot(fpr_knn, tpr_knn, label=f'KNN (AUC = {roc_auc_knn:.2f})')\n",
    "plt.plot(fpr_dummy, tpr_dummy, label=f'Dummy (AUC = {roc_auc_dummy:.2f})')\n",
    "plt.plot([0, 1], [0, 1], 'k--')\n",
    "plt.xlabel('False Positive Rate')\n",
    "plt.ylabel('True Positive Rate')\n",
    "plt.title('ROC curve')\n",
    "plt.legend()\n",
    "\n",
    "# 绘制 PR 曲线\n",
    "plt.subplot(1, 2, 2)\n",
    "plt.plot(recall_svm, precision_svm, label=f'SVM (AUC = {pr_auc_svm:.2f})')\n",
    "plt.plot(recall_knn, precision_knn, label=f'KNN (AUC = {pr_auc_knn:.2f})')\n",
    "plt.plot(recall_dummy, precision_dummy, label=f'Dummy (AUC = {pr_auc_dummy:.2f})')\n",
    "plt.xlabel('Recall')\n",
    "plt.ylabel('Precision')\n",
    "plt.title('PR curve')\n",
    "plt.legend()\n",
    "\n",
    "plt.tight_layout()\n",
    "plt.show()"
   ]
  },
  {
   "cell_type": "markdown",
   "id": "87eaa15f",
   "metadata": {},
   "source": [
    "## 多组合消融实验：尝试不同特征组合"
   ]
  },
  {
   "cell_type": "code",
   "execution_count": 14,
   "id": "1bb25ca3",
   "metadata": {},
   "outputs": [
    {
     "name": "stdout",
     "output_type": "stream",
     "text": [
      "\n",
      "消融组合: 去掉所有mean特征\n",
      "去掉的特征: ['mean radius', 'mean perimeter', 'mean area', 'mean concavity', 'mean concave points']\n",
      "剩余特征数量: 5\n",
      "SVM准确率: 0.9561 (下降: 0.0263)\n",
      "KNN准确率: 0.9825 (下降: 0.0000)\n",
      "\n",
      "消融组合: 去掉面积相关特征\n",
      "去掉的特征: ['mean area', 'worst area']\n",
      "剩余特征数量: 8\n",
      "SVM准确率: 0.9825 (下降: 0.0000)\n",
      "KNN准确率: 0.9825 (下降: 0.0000)\n",
      "\n",
      "消融组合: 去掉凹点相关特征\n",
      "去掉的特征: ['mean concave points', 'worst concave points']\n",
      "剩余特征数量: 8\n",
      "SVM准确率: 0.9912 (下降: -0.0088)\n",
      "KNN准确率: 0.9825 (下降: 0.0000)\n",
      "\n",
      "消融组合: 去掉worst特征\n",
      "去掉的特征: ['worst radius', 'worst perimeter', 'worst area', 'worst concavity', 'worst concave points']\n",
      "剩余特征数量: 5\n",
      "SVM准确率: 0.9035 (下降: 0.0789)\n",
      "KNN准确率: 0.9298 (下降: 0.0527)\n",
      "\n",
      "=== 消融实验总结 ===\n",
      "去掉所有mean特征: SVM下降 0.0263, KNN下降 0.0000\n",
      "去掉面积相关特征: SVM下降 0.0000, KNN下降 0.0000\n",
      "去掉凹点相关特征: SVM下降 -0.0088, KNN下降 0.0000\n",
      "去掉worst特征: SVM下降 0.0789, KNN下降 0.0527\n",
      "\n",
      "=== 消融理由 ===\n",
      "1. 去掉所有mean特征: mean特征代表平均值，可能提供基础统计信息，去掉测试模型对全局趋势的依赖。\n",
      "2. 去掉面积相关特征: 面积特征高度相关于半径和周长，去掉测试冗余性。\n",
      "3. 去掉凹点相关特征: 凹点特征捕捉肿瘤形状复杂性，去掉评估形状信息的重要性。\n",
      "4. 去掉worst特征: worst特征表示最坏值，敏感于异常，去掉测试边界条件的贡献。\n"
     ]
    }
   ],
   "source": [
    "# 多组合消融实验\n",
    "combinations = {\n",
    "    '去掉所有mean特征': [col for col in X_train.columns if 'mean' in col],\n",
    "    '去掉面积相关特征': [col for col in X_train.columns if 'area' in col],\n",
    "    '去掉凹点相关特征': [col for col in X_train.columns if 'concave points' in col],\n",
    "    '去掉worst特征': [col for col in X_train.columns if 'worst' in col]\n",
    "}\n",
    "\n",
    "original_svm_acc = accuracy_best\n",
    "original_knn_acc = 0.9825\n",
    "\n",
    "results_multi = {}\n",
    "\n",
    "for name, features_to_remove in combinations.items():\n",
    "    print(f\"\\n消融组合: {name}\")\n",
    "    print(f\"去掉的特征: {features_to_remove}\")\n",
    "\n",
    "    X_train_drop = X_train.drop(columns=features_to_remove)\n",
    "    X_test_drop = X_test.drop(columns=features_to_remove)\n",
    "\n",
    "    print(f\"剩余特征数量: {X_train_drop.shape[1]}\")\n",
    "\n",
    "    # 训练SVM\n",
    "    svm_drop = SVC(kernel='linear', C=1.0, random_state=42)\n",
    "    svm_drop.fit(X_train_drop, y_train)\n",
    "    y_pred_svm_drop = svm_drop.predict(X_test_drop)\n",
    "    acc_svm_drop = accuracy_score(y_test, y_pred_svm_drop)\n",
    "\n",
    "    # 训练KNN\n",
    "    knn_drop = KNeighborsClassifier(n_neighbors=4, metric='cosine')\n",
    "    knn_drop.fit(X_train_drop, y_train)\n",
    "    y_pred_knn_drop = knn_drop.predict(X_test_drop)\n",
    "    acc_knn_drop = accuracy_score(y_test, y_pred_knn_drop)\n",
    "\n",
    "    drop_svm = original_svm_acc - acc_svm_drop\n",
    "    drop_knn = original_knn_acc - acc_knn_drop\n",
    "\n",
    "    results_multi[name] = {\n",
    "        'svm_acc': acc_svm_drop,\n",
    "        'knn_acc': acc_knn_drop,\n",
    "        'svm_drop': drop_svm,\n",
    "        'knn_drop': drop_knn\n",
    "    }\n",
    "\n",
    "    print(f\"SVM准确率: {acc_svm_drop:.4f} (下降: {drop_svm:.4f})\")\n",
    "    print(f\"KNN准确率: {acc_knn_drop:.4f} (下降: {drop_knn:.4f})\")\n",
    "\n",
    "# 总结\n",
    "print(\"\\n=== 消融实验总结 ===\")\n",
    "for name, res in results_multi.items():\n",
    "    print(f\"{name}: SVM下降 {res['svm_drop']:.4f}, KNN下降 {res['knn_drop']:.4f}\")\n",
    "\n",
    "# 给出理由\n",
    "print(\"\\n=== 消融理由 ===\")\n",
    "print(\"1. 去掉所有mean特征: mean特征代表平均值，可能提供基础统计信息，去掉测试模型对全局趋势的依赖。\")\n",
    "print(\"2. 去掉面积相关特征: 面积特征高度相关于半径和周长，去掉测试冗余性。\")\n",
    "print(\"3. 去掉凹点相关特征: 凹点特征捕捉肿瘤形状复杂性，去掉评估形状信息的重要性。\")\n",
    "print(\"4. 去掉worst特征: worst特征表示最坏值，敏感于异常，去掉测试边界条件的贡献。\")"
   ]
  },
  {
   "cell_type": "markdown",
   "id": "28e4a7d4",
   "metadata": {},
   "source": [
    "## 极端消融实验：只保留一个特征"
   ]
  },
  {
   "cell_type": "code",
   "execution_count": 15,
   "id": "4445f110",
   "metadata": {},
   "outputs": [
    {
     "name": "stdout",
     "output_type": "stream",
     "text": [
      "极端消融实验结果（只保留一个特征）:\n",
      "特征\t\t      SVM准确率\t\tKNN准确率\n",
      "worst perimeter       0.9561\t\t0.9737\n",
      "worst radius          0.9474\t\t0.9561\n",
      "worst area            0.9474\t\t0.9474\n",
      "mean area             0.9386\t\t0.8947\n",
      "mean radius           0.9298\t\t0.8772\n",
      "mean perimeter        0.9298\t\t0.8772\n",
      "worst concave points  0.9211\t\t0.9123\n",
      "mean concavity        0.8860\t\t0.9211\n",
      "mean concave points   0.8860\t\t0.9035\n",
      "worst concavity       0.8596\t\t0.8509\n",
      "\n",
      "SVM最优单特征: worst perimeter (准确率: 0.9561)\n",
      "KNN最优单特征: worst perimeter (准确率: 0.9737)\n"
     ]
    }
   ],
   "source": [
    "# 极端消融实验：只保留一个特征\n",
    "features = list(X_train.columns)\n",
    "results_single = {}\n",
    "\n",
    "for feature in features:\n",
    "    # 只保留该特征\n",
    "    X_train_single = X_train[[feature]]\n",
    "    X_test_single = X_test[[feature]]\n",
    "\n",
    "    # 训练SVM\n",
    "    svm_single = SVC(kernel='linear', C=1.0, random_state=42)\n",
    "    svm_single.fit(X_train_single, y_train)\n",
    "    y_pred_svm_single = svm_single.predict(X_test_single)\n",
    "    acc_svm_single = accuracy_score(y_test, y_pred_svm_single)\n",
    "\n",
    "    # 训练KNN\n",
    "    knn_single = KNeighborsClassifier(n_neighbors=4, metric='cosine')\n",
    "    knn_single.fit(X_train_single, y_train)\n",
    "    y_pred_knn_single = knn_single.predict(X_test_single)\n",
    "    acc_knn_single = accuracy_score(y_test, y_pred_knn_single)\n",
    "\n",
    "    results_single[feature] = {\n",
    "        'svm_acc': acc_svm_single,\n",
    "        'knn_acc': acc_knn_single\n",
    "    }\n",
    "\n",
    "# 打印结果，按SVM准确率排序\n",
    "print(\"极端消融实验结果（只保留一个特征）:\")\n",
    "print(\"特征\\t\\t      SVM准确率\\t\\tKNN准确率\")\n",
    "for feature in sorted(results_single.keys(), key=lambda x: results_single[x]['svm_acc'], reverse=True):\n",
    "    res = results_single[feature]\n",
    "    print(f\"{feature:<20}  {res['svm_acc']:.4f}\\t\\t{res['knn_acc']:.4f}\")\n",
    "\n",
    "# 最优特征\n",
    "best_svm_feature = max(results_single.keys(), key=lambda x: results_single[x]['svm_acc'])\n",
    "best_knn_feature = max(results_single.keys(), key=lambda x: results_single[x]['knn_acc'])\n",
    "print(f\"\\nSVM最优单特征: {best_svm_feature} (准确率: {results_single[best_svm_feature]['svm_acc']:.4f})\")\n",
    "print(f\"KNN最优单特征: {best_knn_feature} (准确率: {results_single[best_knn_feature]['knn_acc']:.4f})\")"
   ]
  },
  {
   "cell_type": "markdown",
   "id": "ed28b568",
   "metadata": {},
   "source": [
    "## 模型失败案例分析\n",
    "\n",
    "### 决策值和预测概率解释\n",
    "- **决策值 (Decision Function)**：SVM模型输出的决策函数值，表示样本到分类超平面的距离。正值表示预测为正类（恶性肿瘤），负值表示负类（良性肿瘤）。值越接近0，表示样本越接近决策边界，模型置信度越低。\n",
    "- **预测概率 (Prediction Probability)**：KNN模型输出的概率值，表示样本属于正类的概率（0到1之间）。值越接近1，表示模型越确信样本为正类；越接近0，越确信为负类。"
   ]
  },
  {
   "cell_type": "code",
   "execution_count": 16,
   "id": "bfd3bc8d",
   "metadata": {},
   "outputs": [
    {
     "name": "stdout",
     "output_type": "stream",
     "text": [
      "=== SVM 失败案例 ===\n",
      "样本编号: 8, 真实标签: 1, 预测标签: 0, 决策值: -0.0928\n",
      "  特征值: {'mean radius': -0.22, 'mean perimeter': -0.23, 'mean area': -0.38, 'mean concavity': 0.35, 'mean concave points': 0.54, 'worst radius': -0.15, 'worst perimeter': -0.32, 'worst area': -0.47, 'worst concavity': 1.02, 'worst concave points': 0.86}\n",
      "  出错原因: 决策值接近0，模型对边界样本分类困难。\n",
      "\n",
      "样本编号: 82, 真实标签: 0, 预测标签: 1, 决策值: 0.4784\n",
      "  特征值: {'mean radius': 0.1, 'mean perimeter': 0.09, 'mean area': -0.02, 'mean concavity': 0.4, 'mean concave points': 0.01, 'worst radius': -0.01, 'worst perimeter': 0.03, 'worst area': -0.13, 'worst concavity': 0.3, 'worst concave points': 0.12}\n",
      "  出错原因: 决策值接近0，模型对边界样本分类困难。\n",
      "\n",
      "=== KNN 失败案例 ===\n",
      "样本编号: 8, 真实标签: 1, 预测标签: 0, 预测概率: 0.0000\n",
      "  特征值: {'mean radius': -0.22, 'mean perimeter': -0.23, 'mean area': -0.38, 'mean concavity': 0.35, 'mean concave points': 0.54, 'worst radius': -0.15, 'worst perimeter': -0.32, 'worst area': -0.47, 'worst concavity': 1.02, 'worst concave points': 0.86}\n",
      "  出错原因: 邻域内多数样本标签与真实标签不一致，导致误分类。\n",
      "\n",
      "样本编号: 108, 真实标签: 1, 预测标签: 0, 预测概率: 0.0000\n",
      "  特征值: {'mean radius': 0.09, 'mean perimeter': 0.08, 'mean area': -0.04, 'mean concavity': -0.05, 'mean concave points': 0.17, 'worst radius': -0.09, 'worst perimeter': 0.04, 'worst area': -0.2, 'worst concavity': 0.18, 'worst concave points': 0.69}\n",
      "  出错原因: 邻域内多数样本标签与真实标签不一致，导致误分类。\n",
      "\n"
     ]
    }
   ],
   "source": [
    "# 模型失败案例分析：找出2-3个错误预测的样本\n",
    "import numpy as np\n",
    "\n",
    "# 使用最佳SVM模型\n",
    "y_pred_svm = best_model.predict(X_test)\n",
    "y_prob_svm = best_model.decision_function(X_test)  # 决策函数值，作为概率近似\n",
    "\n",
    "# 使用最佳KNN模型\n",
    "knn_best = KNeighborsClassifier(n_neighbors=4, metric='cosine')\n",
    "knn_best.fit(X_train, y_train)\n",
    "y_pred_knn = knn_best.predict(X_test)\n",
    "y_prob_knn = knn_best.predict_proba(X_test)[:, 1]  # 预测为阳性的概率\n",
    "\n",
    "# 找出SVM错误预测的样本\n",
    "svm_errors = np.where(y_pred_svm != y_test)[0]\n",
    "knn_errors = np.where(y_pred_knn != y_test)[0]\n",
    "\n",
    "print(\"=== SVM 失败案例 ===\")\n",
    "for i in range(min(3, len(svm_errors))):\n",
    "    idx = svm_errors[i]\n",
    "    true_label = y_test.iloc[idx] if hasattr(y_test, 'iloc') else y_test[idx]\n",
    "    pred_label = y_pred_svm[idx]\n",
    "    prob = y_prob_svm[idx]\n",
    "    features = X_test.iloc[idx].to_dict() if hasattr(X_test, 'iloc') else X_test[idx]\n",
    "    formatted_features = {k: round(v, 2) for k, v in features.items()}\n",
    "    print(f\"样本编号: {idx}, 真实标签: {true_label}, 预测标签: {pred_label}, 决策值: {prob:.4f}\")\n",
    "    print(f\"  特征值: {formatted_features}\")\n",
    "    print(\"  出错原因: 决策值接近0，模型对边界样本分类困难。\\n\")\n",
    "\n",
    "print(\"=== KNN 失败案例 ===\")\n",
    "for i in range(min(3, len(knn_errors))):\n",
    "    idx = knn_errors[i]\n",
    "    true_label = y_test.iloc[idx] if hasattr(y_test, 'iloc') else y_test[idx]\n",
    "    pred_label = y_pred_knn[idx]\n",
    "    prob = y_prob_knn[idx]\n",
    "    features = X_test.iloc[idx].to_dict() if hasattr(X_test, 'iloc') else X_test[idx]\n",
    "    formatted_features = {k: round(v, 2) for k, v in features.items()}\n",
    "    print(f\"样本编号: {idx}, 真实标签: {true_label}, 预测标签: {pred_label}, 预测概率: {prob:.4f}\")\n",
    "    print(f\"  特征值: {formatted_features}\")\n",
    "    print(\"  出错原因: 邻域内多数样本标签与真实标签不一致，导致误分类。\\n\")"
   ]
  },
  {
   "cell_type": "code",
   "execution_count": 17,
   "id": "d2f2da48",
   "metadata": {},
   "outputs": [
    {
     "name": "stdout",
     "output_type": "stream",
     "text": [
      "=== SVM 特征重要性 (系数) ===\n",
      "mean radius: 0.8014\n",
      "mean perimeter: 0.8825\n",
      "mean area: -0.0414\n",
      "mean concavity: 0.0985\n",
      "mean concave points: -0.8464\n",
      "worst radius: -1.7088\n",
      "worst perimeter: -0.6388\n",
      "worst area: -2.0204\n",
      "worst concavity: -0.3235\n",
      "worst concave points: -0.6960\n",
      "\n",
      "=== SVM 失败案例特征贡献分析 ===\n",
      "\n",
      "样本 8 (真实: 1, 预测: 0, 决策值: -0.0928)\n",
      "主要贡献特征 (绝对值排序):\n",
      "  worst area: 0.9436\n",
      "  worst concave points: -0.5956\n",
      "  mean concave points: -0.4574\n",
      "  worst concavity: -0.3316\n",
      "  worst radius: 0.2616\n",
      "\n",
      "样本 82 (真实: 0, 预测: 1, 决策值: 0.4784)\n",
      "主要贡献特征 (绝对值排序):\n",
      "  worst area: 0.2546\n",
      "  worst concavity: -0.0973\n",
      "  worst concave points: -0.0837\n",
      "  mean perimeter: 0.0829\n",
      "  mean radius: 0.0803\n",
      "\n",
      "=== KNN 失败案例特征分析 ===\n",
      "\n",
      "样本 8 (真实: 1, 预测: 0, 概率: 0.0000)\n",
      "最异常特征 (Z-score绝对值排序):\n",
      "  worst concavity: Z=1.01 (值: 1.02)\n",
      "  worst concave points: Z=0.87 (值: 0.86)\n",
      "  mean concave points: Z=0.57 (值: 0.54)\n",
      "  worst area: Z=-0.46 (值: -0.47)\n",
      "  mean area: Z=-0.38 (值: -0.38)\n",
      "\n",
      "样本 108 (真实: 1, 预测: 0, 概率: 0.0000)\n",
      "最异常特征 (Z-score绝对值排序):\n",
      "  worst concave points: Z=0.70 (值: 0.69)\n",
      "  worst area: Z=-0.19 (值: -0.20)\n",
      "  mean concave points: Z=0.18 (值: 0.17)\n",
      "  worst concavity: Z=0.17 (值: 0.18)\n",
      "  mean radius: Z=0.09 (值: 0.09)\n"
     ]
    }
   ],
   "source": [
    "# 分析失败案例中哪些特征导致误分类\n",
    "import numpy as np\n",
    "\n",
    "# SVM特征重要性（系数）\n",
    "svm_coef = best_model.coef_[0]  # 线性SVM的系数\n",
    "feature_names = X_train.columns\n",
    "\n",
    "print(\"=== SVM 特征重要性 (系数) ===\")\n",
    "for name, coef in zip(feature_names, svm_coef):\n",
    "    print(f\"{name}: {coef:.4f}\")\n",
    "\n",
    "print(\"\\n=== SVM 失败案例特征贡献分析 ===\")\n",
    "for i in range(min(3, len(svm_errors))):\n",
    "    idx = svm_errors[i]\n",
    "    features = X_test.iloc[idx].values\n",
    "    contributions = features * svm_coef\n",
    "    sorted_contrib = sorted(zip(feature_names, contributions), key=lambda x: abs(x[1]), reverse=True)\n",
    "    print(f\"\\n样本 {idx} (真实: {y_test.iloc[idx]}, 预测: {y_pred_svm[idx]}, 决策值: {y_prob_svm[idx]:.4f})\")\n",
    "    print(\"主要贡献特征 (绝对值排序):\")\n",
    "    for name, contrib in sorted_contrib[:5]:  # 前5个\n",
    "        print(f\"  {name}: {contrib:.4f}\")\n",
    "\n",
    "print(\"\\n=== KNN 失败案例特征分析 ===\")\n",
    "# 对于KNN，分析特征值是否异常（与训练均值比较）\n",
    "train_means = X_train.mean()\n",
    "train_stds = X_train.std()\n",
    "\n",
    "for i in range(min(3, len(knn_errors))):\n",
    "    idx = knn_errors[i]\n",
    "    features = X_test.iloc[idx]\n",
    "    z_scores = (features - train_means) / train_stds\n",
    "    sorted_z = sorted(zip(feature_names, z_scores), key=lambda x: abs(x[1]), reverse=True)\n",
    "    print(f\"\\n样本 {idx} (真实: {y_test.iloc[idx]}, 预测: {y_pred_knn[idx]}, 概率: {y_prob_knn[idx]:.4f})\")\n",
    "    print(\"最异常特征 (Z-score绝对值排序):\")\n",
    "    for name, z in sorted_z[:5]:  # 前5个\n",
    "        print(f\"  {name}: Z={z:.2f} (值: {features[name]:.2f})\")"
   ]
  },
  {
   "cell_type": "markdown",
   "id": "4877eafd",
   "metadata": {},
   "source": [
    "## 所用库及版本号"
   ]
  },
  {
   "cell_type": "code",
   "execution_count": 18,
   "id": "6bc19070",
   "metadata": {},
   "outputs": [
    {
     "name": "stdout",
     "output_type": "stream",
     "text": [
      "numpy: 1.26.4\n",
      "pandas: 2.2.3\n",
      "matplotlib: 3.8.4\n",
      "scikit-learn: 1.5.1\n"
     ]
    }
   ],
   "source": [
    "import numpy as np\n",
    "import pandas as pd\n",
    "import matplotlib\n",
    "import sklearn\n",
    "\n",
    "print(\"numpy:\", np.__version__)\n",
    "print(\"pandas:\", pd.__version__)\n",
    "print(\"matplotlib:\", matplotlib.__version__)\n",
    "print(\"scikit-learn:\", sklearn.__version__)"
   ]
  }
 ],
 "metadata": {
  "kernelspec": {
   "display_name": "base",
   "language": "python",
   "name": "python3"
  },
  "language_info": {
   "codemirror_mode": {
    "name": "ipython",
    "version": 3
   },
   "file_extension": ".py",
   "mimetype": "text/x-python",
   "name": "python",
   "nbconvert_exporter": "python",
   "pygments_lexer": "ipython3",
   "version": "3.12.3"
  }
 },
 "nbformat": 4,
 "nbformat_minor": 5
}
